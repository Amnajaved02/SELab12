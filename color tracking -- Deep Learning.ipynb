{
 "cells": [
  {
   "cell_type": "code",
   "execution_count": 2,
   "metadata": {},
   "outputs": [],
   "source": [
    "import cv2\n",
    "import numpy as np"
   ]
  },
  {
   "cell_type": "code",
   "execution_count": 8,
   "metadata": {},
   "outputs": [],
   "source": [
    "cap= cv2.VideoCapture(0)\n",
    "if cap.isOpened():\n",
    "    ret, frame= cap.read()\n",
    "else:\n",
    "    ret=False\n",
    "while ret:\n",
    "    ret,frame=cap.read()\n",
    "    \n",
    "    hsv=cv2.cvtColor(frame,cv2.COLOR_BGR2HSV)\n",
    "    \n",
    "    #low=np.array([140,150,0])\n",
    "    #high=np.array([180,255,255])\n",
    "    \n",
    "    imagemask=cv2.inRange(hsv,low,high)\n",
    "    output=cv2.bitwise_and(frame,frame,mask=imagemask)\n",
    "    \n",
    "    cnts=imutils.grab_contours(cnts)\n",
    "    \n",
    "    cv2.imshow('Masked frame', imagemask)\n",
    "    cv2.imshow('Original webcam', frame)\n",
    "    cv2.imshow('Final output', output)\n",
    "    if cv2.waitKey(1)==27:\n",
    "        break\n",
    "cv2.destroyAllWindows()\n",
    "cap.release()"
   ]
  },
  {
   "cell_type": "code",
   "execution_count": 4,
   "metadata": {},
   "outputs": [],
   "source": [
    "import imutils"
   ]
  },
  {
   "cell_type": "code",
   "execution_count": 6,
   "metadata": {},
   "outputs": [],
   "source": [
    "cap= cv2.VideoCapture(0)\n",
    "low = np.array([0,0,168])\n",
    "high = np.array([172,111,255])\n",
    "\n",
    "if cap.isOpened():\n",
    "    ret, frame= cap.read()\n",
    "else:\n",
    "    ret=False\n",
    "while ret:\n",
    "    \n",
    "    ret,frame=cap.read()\n",
    "    hsv=cv2.cvtColor(frame,cv2.COLOR_BGR2HSV)\n",
    "    \n",
    "    \n",
    "    imagemask=cv2.inRange(hsv,low,high)\n",
    "    mask = cv2.erode(imagemask, None, iterations=2)\n",
    "    mask = cv2.dilate(mask, None, iterations=2)\n",
    "    output=cv2.bitwise_and(frame,frame,mask=mask)\n",
    "    \n",
    "    \n",
    "    cnts = cv2.findContours(mask.copy(), cv2.RETR_EXTERNAL,\n",
    "    cv2.CHAIN_APPROX_SIMPLE)\n",
    "    cnts = imutils.grab_contours(cnts)\n",
    "    center = None\n",
    "    if len(cnts) > 0:\n",
    "\n",
    "        c = max(cnts, key=cv2.contourArea)\n",
    "        ((x, y), radius) = cv2.minEnclosingCircle(c)\n",
    "        M = cv2.moments(c)\n",
    "        center = (int(M[\"m10\"] / M[\"m00\"]), int(M[\"m01\"] / M[\"m00\"]))\n",
    "        if radius > 10:\n",
    "\n",
    "            cv2.circle(frame, (int(x), int(y)), int(radius),\n",
    "            (0, 255, 255), 2)\n",
    "            cv2.circle(frame, center, 5, (0, 0, 255), -1)\n",
    "\n",
    "    cv2.imshow('Masked frame', mask)\n",
    "    cv2.imshow('Original webcam', frame)\n",
    "    cv2.imshow('Final output', output)\n",
    "    if cv2.waitKey(1)==27:\n",
    "        break\n",
    "cv2.destroyAllWindows()\n",
    "cap.release()"
   ]
  },
  {
   "cell_type": "code",
   "execution_count": 2,
   "metadata": {},
   "outputs": [],
   "source": []
  },
  {
   "cell_type": "code",
   "execution_count": null,
   "metadata": {},
   "outputs": [],
   "source": []
  },
  {
   "cell_type": "code",
   "execution_count": null,
   "metadata": {},
   "outputs": [],
   "source": []
  }
 ],
 "metadata": {
  "kernelspec": {
   "display_name": "Python 3",
   "language": "python",
   "name": "python3"
  },
  "language_info": {
   "codemirror_mode": {
    "name": "ipython",
    "version": 3
   },
   "file_extension": ".py",
   "mimetype": "text/x-python",
   "name": "python",
   "nbconvert_exporter": "python",
   "pygments_lexer": "ipython3",
   "version": "3.7.4"
  }
 },
 "nbformat": 4,
 "nbformat_minor": 4
}
